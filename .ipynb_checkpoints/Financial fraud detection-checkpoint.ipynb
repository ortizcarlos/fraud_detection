{
 "cells": [
  {
   "cell_type": "markdown",
   "metadata": {},
   "source": [
    "# Un modelo para detección de fraudes en transacciones financieras.\n",
    "\n",
    "\n",
    "\n",
    "Para mi una de las aplicaciones más interesantes y útiles en la práctica del ML es la detección de fraudes en transacciones financieras, un campo de acción que puede ser manejado desde el enfoque de modelos de clasificación o también desde el análisis de anomalías. \n",
    "\n",
    "En general explorar y experimentar en la creación de modelos de ML para detección de fraudes, se hace un poco más complejo por la falta de set de datos disponibles públicamente, lo cual es entendible ya que pocas entidades financieras están dispuestos a poner información financiera y operativa potencialmente sensible en el dominio público.\n",
    "\n",
    "El objetivo de este notebook exponer una aproximación sencilla al problema de la la detección de fraudes, que espero le pueda servir a alguien ya sea como una referencia inicial en el problema de detección de fraudes, o quizá como  punto de arranque para la creación de modelos más complejos. \n",
    "\n",
    "El set datos usado en este proyecto es un dataset sintético creado por PaySim quien ha generado partir de transacciones reales privadas de un servicio de dinero móvil implementado en un país africano, un set de datos sintético que simula una operación transaccional normal a la cual se ha inyectado comportamiento malicioso para luego evaluar el desempeño de modelos de detección de fraudes.. El set de datos original se encuentra disponible en la plataforma Kaggle (https://www.kaggle.com/ntnu-testimon/paysim1)\n"
   ]
  },
  {
   "cell_type": "code",
   "execution_count": 197,
   "metadata": {},
   "outputs": [],
   "source": [
    "import pandas as pd\n",
    "import numpy as np\n",
    "import math\n",
    "import json\n",
    "%matplotlib inline\n",
    "import matplotlib.pyplot as plt\n",
    "import seaborn as sns\n",
    "\n",
    "from sklearn import preprocessing\n",
    "from sklearn.preprocessing import OneHotEncoder\n",
    "\n",
    "\n",
    "from sklearn.model_selection import GridSearchCV\n",
    "from sklearn.ensemble import RandomForestClassifier\n",
    "from sklearn.neighbors import KNeighborsClassifier\n",
    "from sklearn.linear_model import LogisticRegression,SGDClassifier\n",
    "from sklearn.metrics import accuracy_score, confusion_matrix, precision_score, recall_score,roc_auc_score, roc_curve, f1_score"
   ]
  },
  {
   "cell_type": "markdown",
   "metadata": {},
   "source": [
    "## Data exploration\n",
    "\n",
    "Iniciemos explorando los datos para tener un entendimiento de la información con datos clave como el tamaño del dataset, columnas, datos faltantes, outliers, etc."
   ]
  },
  {
   "cell_type": "code",
   "execution_count": 210,
   "metadata": {},
   "outputs": [
    {
     "data": {
      "text/html": [
       "<div>\n",
       "<style scoped>\n",
       "    .dataframe tbody tr th:only-of-type {\n",
       "        vertical-align: middle;\n",
       "    }\n",
       "\n",
       "    .dataframe tbody tr th {\n",
       "        vertical-align: top;\n",
       "    }\n",
       "\n",
       "    .dataframe thead th {\n",
       "        text-align: right;\n",
       "    }\n",
       "</style>\n",
       "<table border=\"1\" class=\"dataframe\">\n",
       "  <thead>\n",
       "    <tr style=\"text-align: right;\">\n",
       "      <th></th>\n",
       "      <th>step</th>\n",
       "      <th>type</th>\n",
       "      <th>amount</th>\n",
       "      <th>nameOrig</th>\n",
       "      <th>oldbalanceOrg</th>\n",
       "      <th>newbalanceOrig</th>\n",
       "      <th>nameDest</th>\n",
       "      <th>oldbalanceDest</th>\n",
       "      <th>newbalanceDest</th>\n",
       "      <th>isFraud</th>\n",
       "      <th>isFlaggedFraud</th>\n",
       "    </tr>\n",
       "  </thead>\n",
       "  <tbody>\n",
       "    <tr>\n",
       "      <th>0</th>\n",
       "      <td>1</td>\n",
       "      <td>PAYMENT</td>\n",
       "      <td>9839.64</td>\n",
       "      <td>C1231006815</td>\n",
       "      <td>170136.0</td>\n",
       "      <td>160296.36</td>\n",
       "      <td>M1979787155</td>\n",
       "      <td>0.0</td>\n",
       "      <td>0.0</td>\n",
       "      <td>0</td>\n",
       "      <td>0</td>\n",
       "    </tr>\n",
       "    <tr>\n",
       "      <th>1</th>\n",
       "      <td>1</td>\n",
       "      <td>PAYMENT</td>\n",
       "      <td>1864.28</td>\n",
       "      <td>C1666544295</td>\n",
       "      <td>21249.0</td>\n",
       "      <td>19384.72</td>\n",
       "      <td>M2044282225</td>\n",
       "      <td>0.0</td>\n",
       "      <td>0.0</td>\n",
       "      <td>0</td>\n",
       "      <td>0</td>\n",
       "    </tr>\n",
       "    <tr>\n",
       "      <th>2</th>\n",
       "      <td>1</td>\n",
       "      <td>TRANSFER</td>\n",
       "      <td>181.00</td>\n",
       "      <td>C1305486145</td>\n",
       "      <td>181.0</td>\n",
       "      <td>0.00</td>\n",
       "      <td>C553264065</td>\n",
       "      <td>0.0</td>\n",
       "      <td>0.0</td>\n",
       "      <td>1</td>\n",
       "      <td>0</td>\n",
       "    </tr>\n",
       "    <tr>\n",
       "      <th>3</th>\n",
       "      <td>1</td>\n",
       "      <td>CASH_OUT</td>\n",
       "      <td>181.00</td>\n",
       "      <td>C840083671</td>\n",
       "      <td>181.0</td>\n",
       "      <td>0.00</td>\n",
       "      <td>C38997010</td>\n",
       "      <td>21182.0</td>\n",
       "      <td>0.0</td>\n",
       "      <td>1</td>\n",
       "      <td>0</td>\n",
       "    </tr>\n",
       "    <tr>\n",
       "      <th>4</th>\n",
       "      <td>1</td>\n",
       "      <td>PAYMENT</td>\n",
       "      <td>11668.14</td>\n",
       "      <td>C2048537720</td>\n",
       "      <td>41554.0</td>\n",
       "      <td>29885.86</td>\n",
       "      <td>M1230701703</td>\n",
       "      <td>0.0</td>\n",
       "      <td>0.0</td>\n",
       "      <td>0</td>\n",
       "      <td>0</td>\n",
       "    </tr>\n",
       "  </tbody>\n",
       "</table>\n",
       "</div>"
      ],
      "text/plain": [
       "   step      type    amount     nameOrig  oldbalanceOrg  newbalanceOrig  \\\n",
       "0     1   PAYMENT   9839.64  C1231006815       170136.0       160296.36   \n",
       "1     1   PAYMENT   1864.28  C1666544295        21249.0        19384.72   \n",
       "2     1  TRANSFER    181.00  C1305486145          181.0            0.00   \n",
       "3     1  CASH_OUT    181.00   C840083671          181.0            0.00   \n",
       "4     1   PAYMENT  11668.14  C2048537720        41554.0        29885.86   \n",
       "\n",
       "      nameDest  oldbalanceDest  newbalanceDest  isFraud  isFlaggedFraud  \n",
       "0  M1979787155             0.0             0.0        0               0  \n",
       "1  M2044282225             0.0             0.0        0               0  \n",
       "2   C553264065             0.0             0.0        1               0  \n",
       "3    C38997010         21182.0             0.0        1               0  \n",
       "4  M1230701703             0.0             0.0        0               0  "
      ]
     },
     "execution_count": 210,
     "metadata": {},
     "output_type": "execute_result"
    }
   ],
   "source": [
    "# read in the json files\n",
    "transactions_df = pd.read_csv('data/PS_20174392719_1491204439457_log.csv')\n",
    "\n",
    "transactions_df.head(5)"
   ]
  },
  {
   "cell_type": "code",
   "execution_count": 211,
   "metadata": {},
   "outputs": [
    {
     "data": {
      "text/plain": [
       "(6362620, 11)"
      ]
     },
     "execution_count": 211,
     "metadata": {},
     "output_type": "execute_result"
    }
   ],
   "source": [
    "transactions_df.shape"
   ]
  },
  {
   "cell_type": "markdown",
   "metadata": {},
   "source": [
    "El set de datos es moderadamente grande con:\n",
    "\n",
    "    6362620 Filas \n",
    "    11      Columnas\n",
    "    "
   ]
  },
  {
   "cell_type": "code",
   "execution_count": 212,
   "metadata": {},
   "outputs": [
    {
     "data": {
      "text/plain": [
       "Index(['step', 'type', 'amount', 'nameOrig', 'oldbalanceOrg', 'newbalanceOrig',\n",
       "       'nameDest', 'oldbalanceDest', 'newbalanceDest', 'isFraud',\n",
       "       'isFlaggedFraud'],\n",
       "      dtype='object')"
      ]
     },
     "execution_count": 212,
     "metadata": {},
     "output_type": "execute_result"
    }
   ],
   "source": [
    "transactions_df.columns"
   ]
  },
  {
   "cell_type": "markdown",
   "metadata": {},
   "source": [
    "#### Definición de las columnas del dataset (copiado desde Kaggle)\n",
    "\n",
    "**step**     - maps a unit of time in the real world. In this case 1 step is 1 hour of time. Total steps 744 (30 days simulation).\n",
    "\n",
    "**type**     - CASH-IN, CASH-OUT, DEBIT, PAYMENT and TRANSFER.\n",
    "\n",
    "**amount**   - amount of the transaction in local currency.\n",
    "\n",
    "**nameOrig** - customer who started the transaction\n",
    "\n",
    "**oldbalanceOrg**  - initial balance before the transaction\n",
    "\n",
    "**newbalanceOrig** - new balance after the transaction\n",
    "\n",
    "**nameDest**       - customer who is the recipient of the transaction\n",
    "\n",
    "**oldbalanceDest** - initial balance recipient before the transaction. Note that there is not information for customers that start with M (Merchants).\n",
    "\n",
    "**newbalanceDest** - new balance recipient after the transaction. Note that there is not information for customers that start with M (Merchants).\n",
    "\n",
    "**isFraud**        - This is the transactions made by the fraudulent agents inside the simulation. In this specific dataset the fraudulent behavior of the agents aims to profit by taking control or customers accounts and try to empty the funds by transferring to another account and then cashing out of the system.\n",
    "\n",
    "**isFlaggedFraud** - The business model aims to control massive transfers from one account to another and flags illegal attempts. An illegal attempt in this dataset is an attempt to transfer more than 200.000 in a single transaction."
   ]
  },
  {
   "cell_type": "markdown",
   "metadata": {},
   "source": [
    "### Tipo de transacciones"
   ]
  },
  {
   "cell_type": "code",
   "execution_count": 213,
   "metadata": {},
   "outputs": [
    {
     "data": {
      "text/plain": [
       "array(['PAYMENT', 'TRANSFER', 'CASH_OUT', 'DEBIT', 'CASH_IN'],\n",
       "      dtype=object)"
      ]
     },
     "execution_count": 213,
     "metadata": {},
     "output_type": "execute_result"
    }
   ],
   "source": [
    "transactions_df['type'].unique()"
   ]
  },
  {
   "cell_type": "code",
   "execution_count": 214,
   "metadata": {},
   "outputs": [
    {
     "data": {
      "text/plain": [
       "CASH_OUT    2237500\n",
       "PAYMENT     2151495\n",
       "CASH_IN     1399284\n",
       "TRANSFER     532909\n",
       "DEBIT         41432\n",
       "Name: type, dtype: int64"
      ]
     },
     "execution_count": 214,
     "metadata": {},
     "output_type": "execute_result"
    }
   ],
   "source": [
    "transactions_df['type'].value_counts()"
   ]
  },
  {
   "cell_type": "code",
   "execution_count": 215,
   "metadata": {},
   "outputs": [
    {
     "data": {
      "text/plain": [
       "<matplotlib.axes._subplots.AxesSubplot at 0x1b41cb4510>"
      ]
     },
     "execution_count": 215,
     "metadata": {},
     "output_type": "execute_result"
    },
    {
     "data": {
      "image/png": "[encoded data removed]",
      "text/plain": [
       "<Figure size 432x288 with 1 Axes>"
      ]
     },
     "metadata": {
      "needs_background": "light"
     },
     "output_type": "display_data"
    }
   ],
   "source": [
    "transactions_df['type'].hist()"
   ]
  },
  {
   "cell_type": "code",
   "execution_count": 217,
   "metadata": {},
   "outputs": [
    {
     "data": {
      "text/plain": [
       "step              0\n",
       "type              0\n",
       "amount            0\n",
       "nameOrig          0\n",
       "oldbalanceOrg     0\n",
       "newbalanceOrig    0\n",
       "nameDest          0\n",
       "oldbalanceDest    0\n",
       "newbalanceDest    0\n",
       "isFraud           0\n",
       "isFlaggedFraud    0\n",
       "dtype: int64"
      ]
     },
     "execution_count": 217,
     "metadata": {},
     "output_type": "execute_result"
    }
   ],
   "source": [
    "transactions_df.isna().sum()"
   ]
  },
  {
   "cell_type": "markdown",
   "metadata": {},
   "source": [
    "No existen valores nulos o faltantes dentro del dataset"
   ]
  },
  {
   "cell_type": "markdown",
   "metadata": {},
   "source": [
    "### Cuantos fraudes tenemos?"
   ]
  },
  {
   "cell_type": "code",
   "execution_count": 218,
   "metadata": {},
   "outputs": [
    {
     "data": {
      "text/plain": [
       "0    6354407\n",
       "1       8213\n",
       "Name: isFraud, dtype: int64"
      ]
     },
     "execution_count": 218,
     "metadata": {},
     "output_type": "execute_result"
    }
   ],
   "source": [
    "transactions_df['isFraud'].value_counts()"
   ]
  },
  {
   "cell_type": "code",
   "execution_count": 219,
   "metadata": {},
   "outputs": [
    {
     "data": {
      "text/plain": [
       "<matplotlib.axes._subplots.AxesSubplot at 0x1c671335d0>"
      ]
     },
     "execution_count": 219,
     "metadata": {},
     "output_type": "execute_result"
    },
    {
     "data": {
      "image/png": "[encoded data removed]",
      "text/plain": [
       "<Figure size 432x288 with 1 Axes>"
      ]
     },
     "metadata": {
      "needs_background": "light"
     },
     "output_type": "display_data"
    }
   ],
   "source": [
    "transactions_df['isFraud'].hist()"
   ]
  },
  {
   "cell_type": "markdown",
   "metadata": {},
   "source": [
    "\n",
    "Solo **8213** filas de un total de algo más de **6 Millones** reprentan fraudes ( solo un **0.13%** ! ), lo cual era casi de esperar ya que por lo general en un set de datos financieros el número de fraudes registrados es casi siempre muy pequeño comparado con el número total de transacciones.\n",
    "\n",
    "Este desbalance de clases (Los fraudes representan solo el 0.13% del total) debe ser manejado de alguna manera y es crucial para luego escoger el algoritmo de clasificación de nuestro modelo.\n",
    "\n",
    "Veamos ahora cuantos fraudes hay por tipo de transaccion:"
   ]
  },
  {
   "cell_type": "code",
   "execution_count": 220,
   "metadata": {},
   "outputs": [
    {
     "data": {
      "text/plain": [
       "type      isFraud\n",
       "CASH_IN   0          1399284\n",
       "CASH_OUT  0          2233384\n",
       "          1             4116\n",
       "DEBIT     0            41432\n",
       "PAYMENT   0          2151495\n",
       "TRANSFER  0           528812\n",
       "          1             4097\n",
       "Name: isFraud, dtype: int64"
      ]
     },
     "execution_count": 220,
     "metadata": {},
     "output_type": "execute_result"
    }
   ],
   "source": [
    "transactions_df.groupby(['type','isFraud'])['isFraud'].count()"
   ]
  },
  {
   "cell_type": "markdown",
   "metadata": {},
   "source": [
    "De acuerdo a los datos, los fraudes se han presentado solamente en las transacciones tipo **CASH_OUT** y **TRANSFER**"
   ]
  },
  {
   "cell_type": "markdown",
   "metadata": {},
   "source": [
    "#### Distribucion del monto de las transacciones ( Columna amount)"
   ]
  },
  {
   "cell_type": "code",
   "execution_count": 221,
   "metadata": {},
   "outputs": [
    {
     "data": {
      "text/plain": [
       "count    6.362620e+06\n",
       "mean     1.798619e+05\n",
       "std      6.038582e+05\n",
       "min      0.000000e+00\n",
       "25%      1.338957e+04\n",
       "50%      7.487194e+04\n",
       "75%      2.087215e+05\n",
       "max      9.244552e+07\n",
       "Name: amount, dtype: float64"
      ]
     },
     "execution_count": 221,
     "metadata": {},
     "output_type": "execute_result"
    }
   ],
   "source": [
    "transactions_df['amount'].describe()"
   ]
  },
  {
   "cell_type": "code",
   "execution_count": 240,
   "metadata": {},
   "outputs": [
    {
     "name": "stdout",
     "output_type": "stream",
     "text": [
      "(13389.57, 208721.48, 92445516.64)\n"
     ]
    }
   ],
   "source": [
    "q25  = np.quantile(transactions_df['amount'], 0.25)\n",
    "q75  = round( np.quantile(transactions_df['amount'], 0.75) , 2 )\n",
    "rmax = round( np.max(transactions_df['amount']) , 2 )\n",
    "\n",
    "print((q25,q75,rmax))\n"
   ]
  },
  {
   "cell_type": "markdown",
   "metadata": {},
   "source": [
    "Grafiquemos la distribución del monto de la transacciones"
   ]
  },
  {
   "cell_type": "code",
   "execution_count": 223,
   "metadata": {},
   "outputs": [
    {
     "data": {
      "text/plain": [
       "Text(0.5, 1.0, '75 to Max interquantile range')"
      ]
     },
     "execution_count": 223,
     "metadata": {},
     "output_type": "execute_result"
    },
    {
     "data": {
      "image/png": "[encoded data removed]",
      "text/plain": [
       "<Figure size 1152x1152 with 4 Axes>"
      ]
     },
     "metadata": {
      "needs_background": "light"
     },
     "output_type": "display_data"
    }
   ],
   "source": [
    "fig, axs = plt.subplots(2,2,figsize=(16,16))\n",
    "colors = ['b','g','r']\n",
    "axs[0,0].hist( transactions_df['amount']  ,bins=10,histtype='bar',color=colors[0])\n",
    "axs[0,0].set_title('Full dataset')\n",
    "axs[0,1].hist( transactions_df['amount']  ,bins=10,histtype='bar',color=colors[1],range=(q25,q75))\n",
    "axs[0,1].set_title('25 to 75 interquantile range')\n",
    "axs[1,0].hist(transactions_df['amount'].loc[transactions_df['amount']>q75] ,bins=10,histtype='bar',color=colors[2])\n",
    "axs[1,0].set_title('75 to Max interquantile range')"
   ]
  },
  {
   "cell_type": "markdown",
   "metadata": {},
   "source": [
    "Grafiquemos ahora la distribución del monto de la transacciones por tipo de transaccion (type), intentando identificar algún patrón en los datos."
   ]
  },
  {
   "cell_type": "code",
   "execution_count": 224,
   "metadata": {},
   "outputs": [
    {
     "data": {
      "image/png": "[encoded data removed]",
      "text/plain": [
       "<Figure size 1080x1080 with 6 Axes>"
      ]
     },
     "metadata": {
      "needs_background": "light"
     },
     "output_type": "display_data"
    }
   ],
   "source": [
    "\n",
    "def plot_amount(interquartile=False):\n",
    "    \n",
    "    types = transactions_df['type'].unique()\n",
    "    cols = 2\n",
    "    nrows = int(len(types)/cols)+1\n",
    "\n",
    "    _, axs = plt.subplots(nrows, cols, figsize=(15, 15))\n",
    "    axs = axs.flatten()\n",
    "    range=None\n",
    "\n",
    "    for type, ax in zip(types, axs):\n",
    "        df = transactions_df.loc[transactions_df['type']==type]\n",
    "        q25  = np.quantile(df['amount'], 0.25)\n",
    "        q75  = np.quantile(df['amount'], 0.75) \n",
    "        rmax = np.max(df['amount'])\n",
    "        if (interquartile):\n",
    "            range = (q25,q75)\n",
    "        ax.hist(df['amount'] ,bins=5,histtype='bar',range=range)\n",
    "        if (interquartile):\n",
    "            ax.set_title('Amount distribution for type:' + type + \" - range \" + str(round(q25,2)) + \" to \" + str(round(q75,2)) )\n",
    "        else:\n",
    "            ax.set_title('Amount distribution for type:' + type )\n",
    "\n",
    "    plt.show()  \n",
    "    \n",
    "plot_amount()    "
   ]
  },
  {
   "cell_type": "markdown",
   "metadata": {},
   "source": [
    "Los histogramas anteriores no son my útiles para ayudar a sacar conclusiones. Veamos si al graficar el rango interquartil del 25 al 75% podemos ver algo más interesante.\n"
   ]
  },
  {
   "cell_type": "code",
   "execution_count": 225,
   "metadata": {},
   "outputs": [
    {
     "data": {
      "image/png": "[encoded data removed]",
      "text/plain": [
       "<Figure size 1080x1080 with 6 Axes>"
      ]
     },
     "metadata": {
      "needs_background": "light"
     },
     "output_type": "display_data"
    }
   ],
   "source": [
    "plot_amount(True) "
   ]
  },
  {
   "cell_type": "markdown",
   "metadata": {},
   "source": [
    "Grafiquemos la distribución del monto en las transacciones fraudulentas"
   ]
  },
  {
   "cell_type": "code",
   "execution_count": 237,
   "metadata": {},
   "outputs": [
    {
     "data": {
      "text/plain": [
       "<matplotlib.axes._subplots.AxesSubplot at 0x1c5cb1f390>"
      ]
     },
     "execution_count": 237,
     "metadata": {},
     "output_type": "execute_result"
    },
    {
     "data": {
      "image/png": "[encoded data removed]",
      "text/plain": [
       "<Figure size 432x288 with 1 Axes>"
      ]
     },
     "metadata": {
      "needs_background": "light"
     },
     "output_type": "display_data"
    }
   ],
   "source": [
    "transactions_df['amount'].loc[transactions_df['isFraud']==1.0].hist(bins=10,histtype='bar')"
   ]
  },
  {
   "cell_type": "code",
   "execution_count": 228,
   "metadata": {},
   "outputs": [],
   "source": [
    "transactions_num_df = transactions_df[['step', 'type', 'amount', 'oldbalanceOrg', 'newbalanceOrig',\n",
    "        'oldbalanceDest', 'newbalanceDest', 'isFraud',\n",
    "       'isFlaggedFraud']].copy()"
   ]
  },
  {
   "cell_type": "markdown",
   "metadata": {},
   "source": [
    "## Feature Engineering"
   ]
  },
  {
   "cell_type": "markdown",
   "metadata": {},
   "source": [
    "Antes es necesario hacer una conversión de la columna type, la cual es categorica, con los valores ('PAYMENT', 'TRANSFER', 'CASH_OUT', 'DEBIT', 'CASH_IN')\n",
    "\n",
    "Para la columna **type** se podría considerar  en una representación ordinal como 1 = PAYMENT, 2 = TRANSFER, 3 = CASH_OUT y asi en adelante. Sin embargo esto podría hacer que el modelo aprendiera que PAYMENT y TRANSFER son más similares que DEBIT y CASH_IN, ya que en realidad no hay una relación ordinal entre ellos. Por lo cual es nejor hacer una codificación tipo One Hot Encoding."
   ]
  },
  {
   "cell_type": "code",
   "execution_count": 229,
   "metadata": {},
   "outputs": [],
   "source": [
    "#one hot encode type\n",
    "enc = OneHotEncoder(handle_unknown='ignore')\n",
    "enc_type = pd.DataFrame(enc.fit_transform(  pd.DataFrame(transactions_num_df['type'])  ).toarray())\n",
    "\n",
    "feature_labels = enc.categories_\n",
    "feature_labels = np.array(feature_labels).ravel()\n",
    "enc_type.columns = feature_labels\n",
    "\n",
    "transactions_num_df = transactions_num_df.join(enc_type)\n",
    "\n",
    "\n",
    "scaler = preprocessing.MinMaxScaler()\n",
    "#amount oldbalanceOrg newbalanceOrig oldbalanceDest newbalanceDest\n",
    "training_df['amount'] = scaler.fit_transform(transactions_num_df[['amount']])\n",
    "training_df['oldbalanceOrg']    = scaler.fit_transform(transactions_num_df[['oldbalanceOrg']])\n",
    "training_df['newbalanceOrig'] = scaler.fit_transform(transactions_num_df[['newbalanceOrig']])\n",
    "training_df['oldbalanceDest']    = scaler.fit_transform(transactions_num_df[['oldbalanceDest']])\n",
    "training_df['newbalanceDest']    = scaler.fit_transform(transactions_num_df[['newbalanceDest']])\n",
    "\n"
   ]
  },
  {
   "cell_type": "markdown",
   "metadata": {},
   "source": [
    "## Correlación de las variables\n",
    "\n",
    "Veamos ahora la correlación de todas las columnas del dataset con respecto al label (**isFraud**), que es valor que al final nuestro modelo debe ser capaz de predecir de con un buen nivel de confianza."
   ]
  },
  {
   "cell_type": "code",
   "execution_count": 230,
   "metadata": {},
   "outputs": [
    {
     "data": {
      "text/plain": [
       "isFraud           1.000000\n",
       "amount            0.076688\n",
       "TRANSFER          0.053869\n",
       "isFlaggedFraud    0.044109\n",
       "step              0.031578\n",
       "CASH_OUT          0.011256\n",
       "oldbalanceOrg     0.010154\n",
       "newbalanceDest    0.000535\n",
       "DEBIT            -0.002911\n",
       "oldbalanceDest   -0.005885\n",
       "newbalanceOrig   -0.008148\n",
       "CASH_IN          -0.019089\n",
       "PAYMENT          -0.025697\n",
       "Name: isFraud, dtype: float64"
      ]
     },
     "execution_count": 230,
     "metadata": {},
     "output_type": "execute_result"
    }
   ],
   "source": [
    "correlation_matrix = transactions_num_df.corr()\n",
    "correlation_matrix['isFraud'].sort_values(ascending=False)"
   ]
  },
  {
   "cell_type": "markdown",
   "metadata": {},
   "source": [
    "#### Seleccion de dato para entrenamiento y pruebas"
   ]
  },
  {
   "cell_type": "code",
   "execution_count": 231,
   "metadata": {},
   "outputs": [],
   "source": [
    "from sklearn.model_selection import StratifiedShuffleSplit\n",
    "\n",
    "split = StratifiedShuffleSplit(n_splits=1 , test_size=0.2, random_state= 42 )\n",
    "\n",
    "\n",
    "for train_index, test_index in split.split(transactions_num_df,transactions_num_df['type']):\n",
    "    strat_train_set = transactions_num_df.iloc[train_index]\n",
    "    strat_test_set  = transactions_num_df.iloc[test_index]"
   ]
  },
  {
   "cell_type": "code",
   "execution_count": 232,
   "metadata": {},
   "outputs": [
    {
     "data": {
      "text/plain": [
       "CASH_OUT    0.351663\n",
       "PAYMENT     0.338146\n",
       "CASH_IN     0.219923\n",
       "TRANSFER    0.083756\n",
       "DEBIT       0.006512\n",
       "Name: type, dtype: float64"
      ]
     },
     "execution_count": 232,
     "metadata": {},
     "output_type": "execute_result"
    }
   ],
   "source": [
    "strat_train_set['type'].value_counts()/len(strat_train_set)"
   ]
  },
  {
   "cell_type": "code",
   "execution_count": 233,
   "metadata": {},
   "outputs": [
    {
     "data": {
      "text/plain": [
       "CASH_OUT    0.351663\n",
       "PAYMENT     0.338146\n",
       "CASH_IN     0.219923\n",
       "TRANSFER    0.083756\n",
       "DEBIT       0.006511\n",
       "Name: type, dtype: float64"
      ]
     },
     "execution_count": 233,
     "metadata": {},
     "output_type": "execute_result"
    }
   ],
   "source": [
    "strat_test_set['type'].value_counts()/len(strat_test_set)"
   ]
  },
  {
   "cell_type": "code",
   "execution_count": 234,
   "metadata": {},
   "outputs": [
    {
     "name": "stdout",
     "output_type": "stream",
     "text": [
      "(5090096, 12)\n",
      "(5090096,)\n"
     ]
    },
    {
     "data": {
      "text/plain": [
       "Index(['step', 'amount', 'oldbalanceOrg', 'newbalanceOrig', 'oldbalanceDest',\n",
       "       'newbalanceDest', 'isFlaggedFraud', 'CASH_IN', 'CASH_OUT', 'DEBIT',\n",
       "       'PAYMENT', 'TRANSFER'],\n",
       "      dtype='object')"
      ]
     },
     "execution_count": 234,
     "metadata": {},
     "output_type": "execute_result"
    }
   ],
   "source": [
    "X_train = strat_train_set.drop(columns=['isFraud','type'])\n",
    "y_train = strat_train_set['isFraud']\n",
    "print(X_train.shape)\n",
    "print(y_train.shape)\n",
    "X_train.columns"
   ]
  },
  {
   "cell_type": "code",
   "execution_count": 235,
   "metadata": {},
   "outputs": [
    {
     "name": "stdout",
     "output_type": "stream",
     "text": [
      "(1272524, 12)\n",
      "(1272524,)\n"
     ]
    },
    {
     "data": {
      "text/plain": [
       "Index(['step', 'amount', 'oldbalanceOrg', 'newbalanceOrig', 'oldbalanceDest',\n",
       "       'newbalanceDest', 'isFlaggedFraud', 'CASH_IN', 'CASH_OUT', 'DEBIT',\n",
       "       'PAYMENT', 'TRANSFER'],\n",
       "      dtype='object')"
      ]
     },
     "execution_count": 235,
     "metadata": {},
     "output_type": "execute_result"
    }
   ],
   "source": [
    "X_test = strat_test_set.drop(columns=['isFraud','type'])\n",
    "y_test = strat_test_set['isFraud']\n",
    "print(X_test.shape)\n",
    "print(y_test.shape)\n",
    "X_test.columns"
   ]
  },
  {
   "cell_type": "markdown",
   "metadata": {},
   "source": [
    "# Fase de selección y entrenamiento del modelo\n",
    "\n",
    "Iniciaremos creando un modelo basado en el algoritmo Random Forest, el cual es un algoritmo flexible y fácil de usar que produce buenos resultados incluso sin ajustar los hiperparámetros. Queríamos usar este algoritmo también porque es útil para manejar grandes conjuntos de datos con una gran dimensionalidad, aunque este set de datos en particular no es tan grande."
   ]
  },
  {
   "cell_type": "code",
   "execution_count": 200,
   "metadata": {},
   "outputs": [
    {
     "name": "stdout",
     "output_type": "stream",
     "text": [
      "RandomForestClassifier Accuracy: 100.0\n",
      "[0 1]\n"
     ]
    }
   ],
   "source": [
    "seed = 42\n",
    "\n",
    "rf = RandomForestClassifier(n_estimators = 100, random_state = seed)\n",
    "\n",
    "rf.fit(X_train, y_train)\n",
    "\n",
    "# Predict on training set\n",
    "train_pred = rf.predict(X_train)\n",
    "\n",
    "print( \"RandomForestClassifier Accuracy: \" + str( round( accuracy_score( y_train,train_pred)*100,2)) )\n",
    " \n",
    "# How many classes are our model predicting?\n",
    "print( np.unique( train_pred ) )"
   ]
  },
  {
   "cell_type": "markdown",
   "metadata": {},
   "source": [
    "Wow, una precisión del **100%!** no tan rápido! no nos dejemos llevar por este valor. Recordemos que el total de filas con fraudes en el dataset representa **SOLO** el **0.13%** del dataset, por lo cual un Accuracy del 100% solo nos puede estar diciendo que nuestro modelo es excelente para predecir transacciones NO fraudulentas :) \n",
    "\n",
    "Para los modelos de clasificación existen métricas más adecuadas para evaluar el desempeño del modelo, entre ellas la matriz de confusión, precision y recall. Que básicamente lo que nos dice con respecto a la precisión es cuando nuestro modelo predice un fraude con que procentaje de precisión lo hace y con respecto al recall, sentitividad o exhaustividad se refiere a que porcentaje de fraudes del total es nuestro modelo capaz de identificar."
   ]
  },
  {
   "cell_type": "code",
   "execution_count": 201,
   "metadata": {},
   "outputs": [
    {
     "data": {
      "text/plain": [
       "(5083530, 0, 1, 6565)"
      ]
     },
     "execution_count": 201,
     "metadata": {},
     "output_type": "execute_result"
    }
   ],
   "source": [
    "tn, fp, fn, tp = confusion_matrix(y_train, train_pred).ravel()\n",
    "(tn, fp, fn, tp )"
   ]
  },
  {
   "cell_type": "code",
   "execution_count": 202,
   "metadata": {},
   "outputs": [
    {
     "name": "stdout",
     "output_type": "stream",
     "text": [
      "precision = 100.0 recall = 99.98\n"
     ]
    }
   ],
   "source": [
    "precision = tp / (tp + fp)\n",
    "recall =  tp / (tp + fn)\n",
    "\n",
    "print(\"precision = {p} recall = {r}\".format(p=round(precision*100,2),r=round(recall*100,2)) )"
   ]
  },
  {
   "cell_type": "markdown",
   "metadata": {},
   "source": [
    "Los resultados siguen siendo muy buenos! tenemos una precisión del 100% y un recall de 99.98%! \n",
    "\n",
    "Es decir nuestro modelo es capaz de reconocer el 99,98% de los fraudes y cuando predice un fraude lo hace con un 100% de seguridad!\n",
    "\n",
    "Sin embargo, debemos ser cautos y asegurar que estas metricas no sean porque nuestro modelo este haciendo overfit de los datos de entrenamiento..."
   ]
  },
  {
   "attachments": {
    "image.png": {
     "image/png": "[encoded data removed]"
    }
   },
   "cell_type": "markdown",
   "metadata": {},
   "source": [
    "### Cross validation\n",
    "\n",
    "Para asegurar que el desempeño del modelo es tan bueno como lo dicen las métricas anteriores, implementemos un mecanismo llamado validación cruzada (Cross Validation) con el que básicamente lo que se hace es dividir el set de datos de entrenamiento en **k** bloques (folds) de datos más pequeños, y con cada uno de estos se hace lo siguiente:\n",
    "\n",
    "El modelo se entrena utilizando **k-1** bloques del set de datos de entrenamiento.\n",
    "    \n",
    "El modelo resultante se valida con el bloque o fold restante que no ha sido visto por el modelo, usando una métrica predefinida (en este caso F1).  \n",
    "\n",
    "![image.png](attachment:image.png)\n",
    "\n",
    "F1 que es una métrica calculada a partir de la precisión y la exhaustividad(recall), básicamente un F1 alto indica que tanto la precisión como el recall son ambos altos. La validación cruzada es una operación computacionalmente costosa, por lo tanto hay que estar preparados para esperar un buen rato..."
   ]
  },
  {
   "cell_type": "code",
   "execution_count": 241,
   "metadata": {},
   "outputs": [],
   "source": [
    "from sklearn.model_selection import cross_val_score\n",
    "\n",
    "scores = cross_val_score(rf, X_train, y_train, cv=4,scoring='f1')"
   ]
  },
  {
   "cell_type": "code",
   "execution_count": 246,
   "metadata": {},
   "outputs": [
    {
     "name": "stdout",
     "output_type": "stream",
     "text": [
      "0.87 F1 with a standard deviation of 0.01\n"
     ]
    }
   ],
   "source": [
    "print(\"%0.2f F1 with a standard deviation of %0.2f\" % (scores.mean(), scores.std()))"
   ]
  },
  {
   "cell_type": "markdown",
   "metadata": {},
   "source": [
    "Con los resultados de la validación cruzada podemos notar que el desempeño del modelo ya no es tán fantastico como inicialmente habiamos pensado. Anteriormente la precision era del 100% y el recall del 99%, ahora podemos notar que el F1 es el promedio del **86%**, un valor que sin embargo no es tán malo."
   ]
  },
  {
   "cell_type": "markdown",
   "metadata": {},
   "source": [
    "## Evaluando el modelo con lo datos de test"
   ]
  },
  {
   "cell_type": "code",
   "execution_count": 203,
   "metadata": {},
   "outputs": [
    {
     "name": "stdout",
     "output_type": "stream",
     "text": [
      "Model Accuracy: 99.97\n"
     ]
    }
   ],
   "source": [
    "final_predictions = rf.predict(X_test)\n",
    "\n",
    "print( \"Model Accuracy: \" + str(round( accuracy_score(y_test,final_predictions)*100,2)) )\n"
   ]
  },
  {
   "cell_type": "code",
   "execution_count": 207,
   "metadata": {},
   "outputs": [
    {
     "data": {
      "text/plain": [
       "(1270851, 26, 325, 1322)"
      ]
     },
     "execution_count": 207,
     "metadata": {},
     "output_type": "execute_result"
    }
   ],
   "source": [
    "tn, fp, fn, tp = confusion_matrix(y_test , final_predictions).ravel()\n",
    "(tn, fp, fn, tp )"
   ]
  },
  {
   "cell_type": "code",
   "execution_count": 206,
   "metadata": {},
   "outputs": [
    {
     "name": "stdout",
     "output_type": "stream",
     "text": [
      "precision = 98.07 recall = 80.27\n"
     ]
    }
   ],
   "source": [
    "precision = tp / (tp + fp)\n",
    "recall =  tp / (tp + fn)\n",
    "\n",
    "print(\"precision = {p} recall = {r}\".format(p=round(precision*100,2),r=round(recall*100,2)) )"
   ]
  },
  {
   "cell_type": "markdown",
   "metadata": {},
   "source": [
    "Luego de evaluar el modelo con el dataset de entrenamiento, el cual no ha sido visto por el modelo, encontramos que la precisión sigue siendo alta del 98% mientras que la exhaustividad es del 80%.\n",
    "\n",
    "Esto nos indica que cuando el modelo predice un fraude lo hace correctamente un 98% de las veces, y es capaz de identificar el 80% del total los fraudes. en otras palabras el modelo puede dejar de idemtificar 20 de cada 100 fraudes :X lo cual podría ser un factor todavia muy riesgoso dependiedo de las expectativas de la organización financiera que va a implementar el modelo.\n",
    "\n",
    "Hagamos la validación cruzada ahora con los datos de pruebas."
   ]
  },
  {
   "cell_type": "code",
   "execution_count": null,
   "metadata": {},
   "outputs": [],
   "source": [
    "scores_test = cross_val_score(rf, X_test, y_test, cv=4,scoring='f1')\n",
    "print(scores_test)"
   ]
  }
 ],
 "metadata": {
  "kernelspec": {
   "display_name": "Python 3",
   "language": "python",
   "name": "python3"
  },
  "language_info": {
   "codemirror_mode": {
    "name": "ipython",
    "version": 3
   },
   "file_extension": ".py",
   "mimetype": "text/x-python",
   "name": "python",
   "nbconvert_exporter": "python",
   "pygments_lexer": "ipython3",
   "version": "3.7.7"
  }
 },
 "nbformat": 4,
 "nbformat_minor": 4
}
